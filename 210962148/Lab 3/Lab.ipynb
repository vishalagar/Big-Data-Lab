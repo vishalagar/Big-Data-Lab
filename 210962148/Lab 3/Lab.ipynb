{
 "cells": [
  {
   "cell_type": "code",
   "execution_count": 2,
   "metadata": {},
   "outputs": [],
   "source": [
    "from pyspark.sql import SparkSession"
   ]
  },
  {
   "cell_type": "code",
   "execution_count": 4,
   "metadata": {},
   "outputs": [],
   "source": [
    "spark = spark = SparkSession.builder.appName(\"lab3\").getOrCreate()"
   ]
  },
  {
   "cell_type": "code",
   "execution_count": 19,
   "metadata": {},
   "outputs": [],
   "source": [
    "df = spark.read.option(\"recursiveFileLockup\", True).csv(\"./donation\", header=True, inferSchema=True)"
   ]
  },
  {
   "cell_type": "code",
   "execution_count": 23,
   "metadata": {
    "scrolled": false
   },
   "outputs": [
    {
     "name": "stdout",
     "output_type": "stream",
     "text": [
      "+-----+-----+------------+------------+------------+------------+-------+------+------+------+-------+--------+\n",
      "| id_1| id_2|cmp_fname_c1|cmp_fname_c2|cmp_lname_c1|cmp_lname_c2|cmp_sex|cmp_bd|cmp_bm|cmp_by|cmp_plz|is_match|\n",
      "+-----+-----+------------+------------+------------+------------+-------+------+------+------+-------+--------+\n",
      "|53719|60579|           1|           ?|           1|           ?|      1|     1|     1|     1|      1|    TRUE|\n",
      "|58967|58973|           1|           ?|           1|           ?|      1|     1|     1|     1|      1|    TRUE|\n",
      "| 1499|23331|           1|           ?|           1|           ?|      1|     1|     1|     1|      1|    TRUE|\n",
      "|18441|36183|           1|           1|           1|           ?|      1|     1|     1|     1|      1|    TRUE|\n",
      "| 8902|11508|           1|           ?|           1|           ?|      1|     1|     1|     1|      1|    TRUE|\n",
      "|17704|21348|           1|           ?|           1|           ?|      1|     1|     1|     1|      1|    TRUE|\n",
      "| 1837|31102|           1|           ?|           1|           ?|      0|     1|     1|     1|      1|    TRUE|\n",
      "|42566|46904|           1|           1|           1|           ?|      1|     1|     1|     1|      1|    TRUE|\n",
      "| 5065|14199|           1|           ?|           1|           ?|      1|     1|     1|     0|      1|    TRUE|\n",
      "|28241|29523|           1|           ?|           1|           ?|      1|     1|     1|     1|      1|    TRUE|\n",
      "+-----+-----+------------+------------+------------+------------+-------+------+------+------+-------+--------+\n",
      "only showing top 10 rows\n",
      "\n"
     ]
    }
   ],
   "source": [
    "df.show(n = 10)"
   ]
  },
  {
   "cell_type": "code",
   "execution_count": 24,
   "metadata": {},
   "outputs": [
    {
     "name": "stdout",
     "output_type": "stream",
     "text": [
      "+-----+-----+-----------------+------------+------------+------------+-------+------+------+------+-------+--------+----------+------+---------------+\n",
      "|id_1 |id_2 |cmp_fname_c1     |cmp_fname_c2|cmp_lname_c1|cmp_lname_c2|cmp_sex|cmp_bd|cmp_bm|cmp_by|cmp_plz|is_match|clean_text|tokens|filtered_tokens|\n",
      "+-----+-----+-----------------+------------+------------+------------+-------+------+------+------+-------+--------+----------+------+---------------+\n",
      "|37291|53113|0.833333333333333|null        |1.0         |null        |1      |1     |1     |1     |0      |true    |1         |[1]   |[1]            |\n",
      "|39086|47614|1.0              |null        |1.0         |null        |1      |1     |1     |1     |1      |true    |1         |[1]   |[1]            |\n",
      "|70031|70237|1.0              |null        |1.0         |null        |1      |1     |1     |1     |1      |true    |1         |[1]   |[1]            |\n",
      "|84795|97439|1.0              |null        |1.0         |null        |1      |1     |1     |1     |1      |true    |1         |[1]   |[1]            |\n",
      "|36950|42116|1.0              |null        |1.0         |1.0         |1      |1     |1     |1     |1      |true    |1         |[1]   |[1]            |\n",
      "|42413|48491|1.0              |null        |1.0         |null        |1      |1     |1     |1     |1      |true    |1         |[1]   |[1]            |\n",
      "|25965|64753|1.0              |null        |1.0         |null        |1      |1     |1     |1     |1      |true    |1         |[1]   |[1]            |\n",
      "|49451|90407|1.0              |null        |1.0         |null        |1      |1     |1     |1     |0      |true    |1         |[1]   |[1]            |\n",
      "|39932|40902|1.0              |null        |1.0         |null        |1      |1     |1     |1     |1      |true    |1         |[1]   |[1]            |\n",
      "|46626|47940|1.0              |null        |1.0         |null        |1      |1     |1     |1     |1      |true    |1         |[1]   |[1]            |\n",
      "|48948|98379|1.0              |null        |1.0         |null        |1      |1     |1     |1     |1      |true    |1         |[1]   |[1]            |\n",
      "|4767 |4826 |1.0              |null        |1.0         |null        |1      |1     |1     |1     |1      |true    |1         |[1]   |[1]            |\n",
      "|45463|69659|1.0              |null        |1.0         |null        |1      |1     |1     |1     |1      |true    |1         |[1]   |[1]            |\n",
      "|11367|13169|1.0              |null        |1.0         |null        |1      |1     |1     |1     |1      |true    |1         |[1]   |[1]            |\n",
      "|10782|89636|1.0              |null        |1.0         |null        |1      |0     |1     |1     |1      |true    |0         |[0]   |[0]            |\n",
      "|26206|39147|1.0              |null        |1.0         |null        |1      |1     |1     |1     |1      |true    |1         |[1]   |[1]            |\n",
      "|16662|27083|1.0              |1.0         |1.0         |null        |1      |1     |1     |1     |1      |true    |1         |[1]   |[1]            |\n",
      "|18823|30204|1.0              |1.0         |1.0         |null        |1      |1     |1     |1     |1      |true    |1         |[1]   |[1]            |\n",
      "|38545|85418|1.0              |null        |1.0         |null        |1      |1     |1     |1     |1      |true    |1         |[1]   |[1]            |\n",
      "|28963|39172|1.0              |null        |1.0         |null        |1      |1     |1     |1     |1      |true    |1         |[1]   |[1]            |\n",
      "+-----+-----+-----------------+------------+------------+------------+-------+------+------+------+-------+--------+----------+------+---------------+\n",
      "only showing top 20 rows\n",
      "\n"
     ]
    }
   ],
   "source": [
    "from pyspark.ml.feature import Tokenizer, StopWordsRemover\n",
    "from pyspark.sql.functions import col, lower, regexp_replace\n",
    "\n",
    "parsed = spark.read.option(\"header\", \"true\").option(\"nullValue\", \"?\").\\\n",
    "option(\"inferSchema\", \"true\").csv(\"donation/block_1.csv\")\n",
    "# Assuming `parsed` is the DataFrame after loading data\n",
    "def preprocess_data(df):\n",
    "    # Convert text to lowercase\n",
    "    df = df.withColumn(\"clean_text\", lower(col(\"cmp_bd\")))\n",
    "\n",
    "    # Remove special characters and punctuation\n",
    "    df = df.withColumn(\"clean_text\", regexp_replace(col(\"clean_text\"), \"[^a-zA-Z0-9\\\\s]\", \"\"))\n",
    "\n",
    "    # Tokenization\n",
    "    tokenizer = Tokenizer(inputCol=\"clean_text\", outputCol=\"tokens\")\n",
    "    df = tokenizer.transform(df)\n",
    "\n",
    "    # Remove stop words\n",
    "    remover = StopWordsRemover(inputCol=\"tokens\", outputCol=\"filtered_tokens\")\n",
    "    df = remover.transform(df)\n",
    "\n",
    "    return df\n",
    "\n",
    "# Apply the preprocessing function to your data\n",
    "preprocessed_data = preprocess_data(parsed)\n",
    "preprocessed_data.show(truncate=False)"
   ]
  },
  {
   "cell_type": "code",
   "execution_count": null,
   "metadata": {},
   "outputs": [],
   "source": []
  }
 ],
 "metadata": {
  "kernelspec": {
   "display_name": "Python 3",
   "language": "python",
   "name": "python3"
  },
  "language_info": {
   "codemirror_mode": {
    "name": "ipython",
    "version": 3
   },
   "file_extension": ".py",
   "mimetype": "text/x-python",
   "name": "python",
   "nbconvert_exporter": "python",
   "pygments_lexer": "ipython3",
   "version": "3.7.0"
  }
 },
 "nbformat": 4,
 "nbformat_minor": 2
}
