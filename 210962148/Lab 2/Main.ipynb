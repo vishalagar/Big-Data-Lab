{
 "cells": [
  {
   "cell_type": "code",
   "execution_count": 1,
   "metadata": {},
   "outputs": [],
   "source": [
    "from pyspark.sql import SparkSession\n",
    "from pyspark.sql import functions as f"
   ]
  },
  {
   "cell_type": "code",
   "execution_count": 2,
   "metadata": {},
   "outputs": [
    {
     "name": "stderr",
     "output_type": "stream",
     "text": [
      "/home/lplab/anaconda3/lib/python3.7/site-packages/pyspark/context.py:317: FutureWarning: Python 3.7 support is deprecated in Spark 3.4.\n",
      "  warnings.warn(\"Python 3.7 support is deprecated in Spark 3.4.\", FutureWarning)\n"
     ]
    }
   ],
   "source": [
    "spark = SparkSession.builder.appName(\"lab2\").getOrCreate()"
   ]
  },
  {
   "cell_type": "code",
   "execution_count": 3,
   "metadata": {},
   "outputs": [],
   "source": [
    "df = spark.read.option('header', True).csv('data.csv')"
   ]
  },
  {
   "cell_type": "code",
   "execution_count": 4,
   "metadata": {},
   "outputs": [
    {
     "name": "stdout",
     "output_type": "stream",
     "text": [
      "+----+-----+\n",
      "|Name|Marks|\n",
      "+----+-----+\n",
      "|   x|   80|\n",
      "|   y|   93|\n",
      "|   z|   50|\n",
      "|   a|   85|\n",
      "|   b|   79|\n",
      "|   c|   67|\n",
      "|   d|   43|\n",
      "+----+-----+\n",
      "\n"
     ]
    }
   ],
   "source": [
    "df.show()"
   ]
  },
  {
   "cell_type": "code",
   "execution_count": 5,
   "metadata": {},
   "outputs": [],
   "source": [
    "df1 = df.filter(df['Marks'] > 75)"
   ]
  },
  {
   "cell_type": "code",
   "execution_count": 6,
   "metadata": {},
   "outputs": [
    {
     "name": "stdout",
     "output_type": "stream",
     "text": [
      "+----+-----+\n",
      "|Name|Marks|\n",
      "+----+-----+\n",
      "|   x|   80|\n",
      "|   y|   93|\n",
      "|   a|   85|\n",
      "|   b|   79|\n",
      "+----+-----+\n",
      "\n"
     ]
    }
   ],
   "source": [
    "df1.show()"
   ]
  },
  {
   "cell_type": "code",
   "execution_count": 7,
   "metadata": {},
   "outputs": [
    {
     "name": "stdout",
     "output_type": "stream",
     "text": [
      "+----+-----+\n",
      "|Name|Marks|\n",
      "+----+-----+\n",
      "|   x| 75.0|\n",
      "|   y| 88.0|\n",
      "|   a| 80.0|\n",
      "|   b| 74.0|\n",
      "+----+-----+\n",
      "\n"
     ]
    }
   ],
   "source": [
    "df1 = df1.withColumn('Marks',f.col('Marks') - 5).show()"
   ]
  },
  {
   "cell_type": "code",
   "execution_count": 8,
   "metadata": {},
   "outputs": [
    {
     "name": "stdout",
     "output_type": "stream",
     "text": [
      "+-----------+\n",
      "|count(Name)|\n",
      "+-----------+\n",
      "|          7|\n",
      "+-----------+\n",
      "\n"
     ]
    }
   ],
   "source": [
    "df.select(f.count(df.Name)).show()"
   ]
  },
  {
   "cell_type": "code",
   "execution_count": 9,
   "metadata": {},
   "outputs": [
    {
     "name": "stdout",
     "output_type": "stream",
     "text": [
      "+----------+\n",
      "|avg(Marks)|\n",
      "+----------+\n",
      "|      71.0|\n",
      "+----------+\n",
      "\n"
     ]
    }
   ],
   "source": [
    "df.select(f.avg(df.Marks)).show()"
   ]
  },
  {
   "cell_type": "code",
   "execution_count": 10,
   "metadata": {},
   "outputs": [
    {
     "name": "stdout",
     "output_type": "stream",
     "text": [
      "+----------+\n",
      "|sum(Marks)|\n",
      "+----------+\n",
      "|     497.0|\n",
      "+----------+\n",
      "\n"
     ]
    }
   ],
   "source": [
    "df.select(f.sum(df.Marks)).show()"
   ]
  },
  {
   "cell_type": "code",
   "execution_count": 11,
   "metadata": {},
   "outputs": [],
   "source": [
    "data = [(\"Vishal\",\"Educative\",\"Engg\",\"USA\"),\n",
    "    (\"Michael\",\"Google\",None,\"Asia\"),\n",
    "    (\"Robert\",None,\"Marketing\",\"Russia\"),\n",
    "    (\"Maria\",\"Netflix\",\"Finance\",\"Ukraine\"),\n",
    "    (None, None, None, None)\n",
    "  ]\n",
    "\n",
    "columns = [\"emp name\",\"company\",\"department\",\"country\"]\n",
    "df = spark.createDataFrame(data = data, schema = columns)\n",
    "\n",
    "csv_file_path = \"data1.csv\"\n",
    "df.write.option(\"header\", True).option(\"delimiter\",\",\").csv(csv_file_path)\n"
   ]
  },
  {
   "cell_type": "code",
   "execution_count": 12,
   "metadata": {},
   "outputs": [],
   "source": [
    "df2 = spark.read.csv('data1.csv', header=True, inferSchema=True)"
   ]
  },
  {
   "cell_type": "code",
   "execution_count": 13,
   "metadata": {},
   "outputs": [
    {
     "name": "stdout",
     "output_type": "stream",
     "text": [
      "+--------+---------+----------+-------+\n",
      "|emp name|  company|department|country|\n",
      "+--------+---------+----------+-------+\n",
      "|   Maria|  Netflix|   Finance|Ukraine|\n",
      "|  Vishal|Educative|      Engg|    USA|\n",
      "|  Robert|     null| Marketing| Russia|\n",
      "| Michael|   Google|      null|   Asia|\n",
      "|    null|     null|      null|   null|\n",
      "+--------+---------+----------+-------+\n",
      "\n"
     ]
    }
   ],
   "source": [
    "df2.show()"
   ]
  },
  {
   "cell_type": "code",
   "execution_count": 14,
   "metadata": {},
   "outputs": [],
   "source": [
    "lines = spark.read.text('sen.txt')"
   ]
  },
  {
   "cell_type": "code",
   "execution_count": 15,
   "metadata": {},
   "outputs": [
    {
     "name": "stdout",
     "output_type": "stream",
     "text": [
      "+------------+-----+\n",
      "|        word|count|\n",
      "+------------+-----+\n",
      "|         the|   15|\n",
      "|          of|   11|\n",
      "|          is|    6|\n",
      "|           a|    6|\n",
      "|         The|    5|\n",
      "|         Ram|    4|\n",
      "|          to|    4|\n",
      "|         was|    3|\n",
      "|         for|    3|\n",
      "|      temple|    3|\n",
      "|       Babri|    2|\n",
      "|          by|    2|\n",
      "|      Mandir|    2|\n",
      "|       under|    2|\n",
      "|          be|    2|\n",
      "|       India|    2|\n",
      "|        site|    2|\n",
      "|        land|    2|\n",
      "|construction|    2|\n",
      "|        that|    2|\n",
      "+------------+-----+\n",
      "only showing top 20 rows\n",
      "\n"
     ]
    }
   ],
   "source": [
    "words = lines.withColumn('word', f.explode(f.split(f.col('value'),' ')))\\\n",
    "    .groupBy('word')\\\n",
    "    .count()\\\n",
    "    .sort('count', ascending = False)\\\n",
    "    .show()                     "
   ]
  },
  {
   "cell_type": "code",
   "execution_count": null,
   "metadata": {},
   "outputs": [],
   "source": []
  }
 ],
 "metadata": {
  "kernelspec": {
   "display_name": "Python 3",
   "language": "python",
   "name": "python3"
  },
  "language_info": {
   "codemirror_mode": {
    "name": "ipython",
    "version": 3
   },
   "file_extension": ".py",
   "mimetype": "text/x-python",
   "name": "python",
   "nbconvert_exporter": "python",
   "pygments_lexer": "ipython3",
   "version": "3.7.0"
  }
 },
 "nbformat": 4,
 "nbformat_minor": 2
}
